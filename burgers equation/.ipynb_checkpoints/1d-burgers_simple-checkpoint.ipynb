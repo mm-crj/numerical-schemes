{
 "cells": [
  {
   "cell_type": "markdown",
   "metadata": {},
   "source": [
    "# Exercise 1.5(Programming)\n",
    "\n",
    "Implement the Finite volume method for the burgers equation of the simplist form:\n",
    "$$ \\frac{\\partial u(x,t)}{\\partial t} + u\\frac{\\partial u(x,t)}{\\partial x}=0\\,\\qquad\\text{for  }x \\in(-2,2)\\text{ and } t \\in(0,1), \\qquad  u(x,0) = u_0(x)$$\n",
    "\n",
    "This equation has an anlytic solution of the form:\n",
    "$$u(x,t)=u_0(x-at)$$\n",
    "\n",
    "    The task is to create a finite volume scheme and to compare the numerical and the analytic solution."
   ]
  },
  {
   "cell_type": "markdown",
   "metadata": {},
   "source": [
    "First we will create an equidistant grid $(x_j , t^k )$ in $(-2,2)\\times (0,1)$ with $x_j = jh$ and $t^k = k\\tau$. So we create this grid using numpy. If any of the variables$(a,u_o)$ in the PDE are functions of $x$ then we should create arrays of those variables too with values at each $(x_j,t^k)$"
   ]
  },
  {
   "cell_type": "code",
   "execution_count": 3,
   "metadata": {},
   "outputs": [
    {
     "name": "stdout",
     "output_type": "stream",
     "text": [
      "[0.1 0.2 0.3 0.4 0.5 0.6 0.7 0.8 0.9] \n",
      "\n",
      "\n",
      " [0.1 0.2 0.3 0.4 0.5 0.6 0.7 0.8 0.9 1.  1.1 1.2 1.3 1.4 1.5 1.6 1.7 1.8\n",
      " 1.9 2.  2.1 2.2 2.3 2.4 2.5 2.6 2.7 2.8 2.9]\n"
     ]
    }
   ],
   "source": [
    "import numpy as np\n",
    "import matplotlib.pyplot as plt \n",
    "from scipy.sparse import dia_matrix\n",
    "import scipy.sparse\n",
    "import scipy.sparse.linalg\n",
    "\n",
    "#grid\n",
    "nx=10\n",
    "nt=30\n",
    "h=1/nx\n",
    "k=1/nt\n",
    "x= np.arange(1,nx)*h\n",
    "t= np.arange(1,nt)*h\n",
    "print(x,'\\n\\n\\n',t)"
   ]
  },
  {
   "cell_type": "markdown",
   "metadata": {},
   "source": [
    "Next all the variables for the equation are initialized. And the boundary conditions. "
   ]
  },
  {
   "cell_type": "code",
   "execution_count": 2,
   "metadata": {},
   "outputs": [
    {
     "data": {
      "image/png": "[encoded data removed]",
      "text/plain": [
       "<Figure size 432x288 with 1 Axes>"
      ]
     },
     "metadata": {
      "needs_background": "light"
     },
     "output_type": "display_data"
    }
   ],
   "source": [
    "#equation variables\n",
    "b=1\n",
    "c=1\n",
    "f=np.sin(np.pi*x)\n",
    "\n",
    "\n",
    "#boundary conditions\n",
    "u0,u1=0,0\n",
    "#u=np.zeros(x.shape)\n",
    "\n",
    "f[0],f[-1]=u0, u1\n",
    "\n",
    "plt.plot(x,f)\n",
    "plt.show()"
   ]
  },
  {
   "cell_type": "markdown",
   "metadata": {},
   "source": [
    "Here we create the $L$ matrix of the equation $Lu=f$"
   ]
  },
  {
   "cell_type": "code",
   "execution_count": 3,
   "metadata": {},
   "outputs": [],
   "source": [
    "# lower diagonal\n",
    "l=np.zeros(x.shape[0])\n",
    "#l[0:-2]=(-1/h**2-b/2*h)*np.ones(x.shape[0]-2)\n",
    "l[0:-2]=-1/h**2-b/(2*h)*np.ones(x.shape[0]-2)\n",
    "#primary diagonal\n",
    "d=np.zeros(x.shape[0])\n",
    "d[0],d[-1]=1,1\n",
    "d[1:-1]=(c+2/h**2)*np.ones(x.shape[0]-2)\n",
    "#Upper diagonal\n",
    "r=np.zeros(x.shape[0])\n",
    "r[2:]=-1/h**2+b/(2*h)**np.ones(x.shape[0]-2)\n",
    "#print(\"l:%r \\n d: %r \\n r: %r \" % (l, d, r))"
   ]
  },
  {
   "cell_type": "code",
   "execution_count": 4,
   "metadata": {},
   "outputs": [],
   "source": [
    "data=np.stack((l,d,r),axis=0)\n",
    "\n",
    "offsets = np.array([-1,0, 1])\n",
    "L=dia_matrix((data, offsets), shape=(x.shape[0], x.shape[0])).tocsc()\n",
    "#num_sol = np.linalg.solve(L, f)\n",
    "num_sol=scipy.sparse.linalg.spsolve(L,f)\n",
    "#print(L)"
   ]
  },
  {
   "cell_type": "markdown",
   "metadata": {},
   "source": [
    "The analytic solution is given by:\n",
    "\n",
    "$$u(x)=c_{1} e^{\\left(\\frac{1}{2} \\, x {\\left(\\sqrt{5} + 1\\right)}\\right)} + c_{2} e^{\\left(-\\frac{1}{2} \\, x {\\left(\\sqrt{5} - 1\\right)}\\right)} - \\frac{\\pi \\cos\\left(\\pi x\\right) - {\\left(\\pi^{2} + 1\\right)} \\sin\\left(\\pi x\\right)}{\\pi^{4} + 3 \\, \\pi^{2} + 1}$$\n",
    "\n",
    "Below we define the analytic solution as a python function and then we can compare."
   ]
  },
  {
   "cell_type": "code",
   "execution_count": 5,
   "metadata": {},
   "outputs": [
    {
     "data": {
      "image/png": "[encoded data removed]",
      "text/plain": [
       "<Figure size 432x288 with 1 Axes>"
      ]
     },
     "metadata": {
      "needs_background": "light"
     },
     "output_type": "display_data"
    }
   ],
   "source": [
    "#Analytic solution\n",
    "def ua(x):\n",
    "    d= np.pi/(np.pi**4+3*np.pi**2+1)\n",
    "    r1=(1+np.sqrt(5))*0.5\n",
    "    r2=(1-np.sqrt(5))*0.5\n",
    "    c2=d*(1+np.exp(r1))/(np.exp(r1)-np.exp(r2))\n",
    "    c1=d*(1+np.exp(r2))/(np.exp(r2)-np.exp(r1))\n",
    "    return  c1*np.exp(r1*x)+ c2*np.exp(r2*x)-(np.pi*np.cos(np.pi*x)-(np.pi**2+1)*np.sin(np.pi*x))/(np.pi**4+3*np.pi**2+1)\n",
    "ana_sol=ua(x)\n",
    "%matplotlib inline\n",
    "plt.plot(x,ana_sol,label='Analytic Solution')\n",
    "plt.plot(x,num_sol,label='Numerical Solution')\n",
    "plt.xlabel('x')\n",
    "plt.ylabel('u(x)')\n",
    "plt.show()"
   ]
  },
  {
   "cell_type": "code",
   "execution_count": 6,
   "metadata": {},
   "outputs": [
    {
     "name": "stdout",
     "output_type": "stream",
     "text": [
      "1e-05 5.134324385551861e-09 5.7984343175831e-09\n"
     ]
    }
   ],
   "source": [
    "err_rmse= np.sqrt(np.mean((num_sol-ana_sol)**2))\n",
    "err_abs= np.mean(np.abs(num_sol-ana_sol))\n",
    "print(h,err_abs,err_rmse)\n",
    "\n",
    "f = open('order.csv', 'a')\n",
    "f.write(str(h)+','+str(err_abs)+','+str(err_rmse)+'\\n')\n",
    "f.close()"
   ]
  }
 ],
 "metadata": {
  "authors": [
   {
    "name": "Mainak Mandal"
   }
  ],
  "kernelspec": {
   "display_name": "Python 3",
   "language": "python",
   "name": "python3"
  },
  "language_info": {
   "codemirror_mode": {
    "name": "ipython",
    "version": 3
   },
   "file_extension": ".py",
   "mimetype": "text/x-python",
   "name": "python",
   "nbconvert_exporter": "python",
   "pygments_lexer": "ipython3",
   "version": "3.7.6"
  }
 },
 "nbformat": 4,
 "nbformat_minor": 4
}
