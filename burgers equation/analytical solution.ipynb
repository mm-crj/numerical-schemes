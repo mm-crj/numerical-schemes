{
 "cells": [
  {
   "cell_type": "code",
   "execution_count": 1,
   "metadata": {},
   "outputs": [
    {
     "data": {
      "text/html": [
       "<script type=\"math/tex\">K_{1} e^{\\left(\\frac{1}{2} \\, x {\\left(\\sqrt{5} + 1\\right)}\\right)} + K_{2} e^{\\left(-\\frac{1}{2} \\, x {\\left(\\sqrt{5} - 1\\right)}\\right)} - \\frac{\\pi \\cos\\left(\\pi x\\right) - {\\left(\\pi^{2} + 1\\right)} \\sin\\left(\\pi x\\right)}{\\pi^{4} + 3 \\, \\pi^{2} + 1}</script>"
      ],
      "text/plain": [
       "<script type=\"math/tex\">K_{1} e^{\\left(\\frac{1}{2} \\, x {\\left(\\sqrt{5} + 1\\right)}\\right)} + K_{2} e^{\\left(-\\frac{1}{2} \\, x {\\left(\\sqrt{5} - 1\\right)}\\right)} - \\frac{\\pi \\cos\\left(\\pi x\\right) - {\\left(\\pi^{2} + 1\\right)} \\sin\\left(\\pi x\\right)}{\\pi^{4} + 3 \\, \\pi^{2} + 1}</script>"
      ]
     },
     "execution_count": 1,
     "metadata": {},
     "output_type": "execute_result"
    }
   ],
   "source": [
    "x = var('x')\n",
    "u = function('u')(x)\n",
    "de = -diff(u,x,2)+diff(u,x,1) + u == sin(pi*x)\n",
    "html(latex(desolve(de, u)))"
   ]
  },
  {
   "cell_type": "markdown",
   "metadata": {},
   "source": [
    "Let $d=\\frac{\\pi}{\\pi^4+3\\pi^2+1}$. So now by substituting the diriclelet conditions we have:\n",
    "$$c_1 + c_2=d\\\\\n",
    "c_1 \\exp(r_1) + c_2\\exp(r_2)=-d\n",
    "$$\n",
    "This is solved below:"
   ]
  },
  {
   "cell_type": "code",
   "execution_count": 24,
   "metadata": {},
   "outputs": [
    {
     "data": {
      "text/html": [
       "<script type=\"math/tex\">\\left[\\left[c_{1} = -\\frac{d {\\left(1.648721270700128 \\, e^{\\left(-0.5 \\, \\sqrt{5}\\right)} + 1\\right)}}{1.648721270700128 \\, e^{\\left(0.5 \\, \\sqrt{5}\\right)} - 1.648721270700128 \\, e^{\\left(-0.5 \\, \\sqrt{5}\\right)}}, c_{2} = \\frac{d {\\left(1.648721270700128 \\, e^{\\left(0.5 \\, \\sqrt{5}\\right)} + 1\\right)}}{1.648721270700128 \\, e^{\\left(0.5 \\, \\sqrt{5}\\right)} - 1.648721270700128 \\, e^{\\left(-0.5 \\, \\sqrt{5}\\right)}}\\right]\\right]</script>"
      ],
      "text/plain": [
       "<script type=\"math/tex\">\\left[\\left[c_{1} = -\\frac{d {\\left(1.648721270700128 \\, e^{\\left(-0.5 \\, \\sqrt{5}\\right)} + 1\\right)}}{1.648721270700128 \\, e^{\\left(0.5 \\, \\sqrt{5}\\right)} - 1.648721270700128 \\, e^{\\left(-0.5 \\, \\sqrt{5}\\right)}}, c_{2} = \\frac{d {\\left(1.648721270700128 \\, e^{\\left(0.5 \\, \\sqrt{5}\\right)} + 1\\right)}}{1.648721270700128 \\, e^{\\left(0.5 \\, \\sqrt{5}\\right)} - 1.648721270700128 \\, e^{\\left(-0.5 \\, \\sqrt{5}\\right)}}\\right]\\right]</script>"
      ]
     },
     "execution_count": 24,
     "metadata": {},
     "output_type": "execute_result"
    }
   ],
   "source": [
    "var('c1,c2,d')\n",
    "eq1 = c1+c2==d\n",
    "eq2 = c1*exp((1+sqrt(5))*0.5)+c2*exp((1-sqrt(5))*0.5)==-d\n",
    "html(latex(solve([eq1,eq2],c1,c2)))"
   ]
  }
 ],
 "metadata": {
  "kernelspec": {
   "display_name": "SageMath 9.2",
   "language": "sage",
   "name": "sagemath"
  },
  "language_info": {
   "codemirror_mode": {
    "name": "ipython",
    "version": 3
   },
   "file_extension": ".py",
   "mimetype": "text/x-python",
   "name": "python",
   "nbconvert_exporter": "python",
   "pygments_lexer": "ipython3",
   "version": "3.8.5"
  }
 },
 "nbformat": 4,
 "nbformat_minor": 4
}
