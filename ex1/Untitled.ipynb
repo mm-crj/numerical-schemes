{
 "cells": [
  {
   "cell_type": "code",
   "execution_count": 9,
   "metadata": {},
   "outputs": [
    {
     "data": {
      "text/html": [
       "<html><script type=\"math/tex; mode=display\">\\newcommand{\\Bold}[1]{\\mathbf{#1}}\\left[x = -\\frac{{\\left(-i \\, \\sqrt{3} + 1\\right)} {\\left(\\frac{b^{2}}{a^{2}} - \\frac{3 \\, c}{a}\\right)}}{18 \\, {\\left(-\\frac{b^{3}}{27 \\, a^{3}} + \\frac{b c}{6 \\, a^{2}} - \\frac{d}{2 \\, a} + \\frac{\\sqrt{-\\frac{1}{3} \\, b^{2} c^{2} + \\frac{4}{3} \\, a c^{3} + 9 \\, a^{2} d^{2} + \\frac{2}{3} \\, {\\left(2 \\, b^{3} - 9 \\, a b c\\right)} d}}{6 \\, a^{2}}\\right)}^{\\frac{1}{3}}} - \\frac{1}{2} \\, {\\left(i \\, \\sqrt{3} + 1\\right)} {\\left(-\\frac{b^{3}}{27 \\, a^{3}} + \\frac{b c}{6 \\, a^{2}} - \\frac{d}{2 \\, a} + \\frac{\\sqrt{-\\frac{1}{3} \\, b^{2} c^{2} + \\frac{4}{3} \\, a c^{3} + 9 \\, a^{2} d^{2} + \\frac{2}{3} \\, {\\left(2 \\, b^{3} - 9 \\, a b c\\right)} d}}{6 \\, a^{2}}\\right)}^{\\frac{1}{3}} - \\frac{b}{3 \\, a}, x = -\\frac{{\\left(i \\, \\sqrt{3} + 1\\right)} {\\left(\\frac{b^{2}}{a^{2}} - \\frac{3 \\, c}{a}\\right)}}{18 \\, {\\left(-\\frac{b^{3}}{27 \\, a^{3}} + \\frac{b c}{6 \\, a^{2}} - \\frac{d}{2 \\, a} + \\frac{\\sqrt{-\\frac{1}{3} \\, b^{2} c^{2} + \\frac{4}{3} \\, a c^{3} + 9 \\, a^{2} d^{2} + \\frac{2}{3} \\, {\\left(2 \\, b^{3} - 9 \\, a b c\\right)} d}}{6 \\, a^{2}}\\right)}^{\\frac{1}{3}}} - \\frac{1}{2} \\, {\\left(-i \\, \\sqrt{3} + 1\\right)} {\\left(-\\frac{b^{3}}{27 \\, a^{3}} + \\frac{b c}{6 \\, a^{2}} - \\frac{d}{2 \\, a} + \\frac{\\sqrt{-\\frac{1}{3} \\, b^{2} c^{2} + \\frac{4}{3} \\, a c^{3} + 9 \\, a^{2} d^{2} + \\frac{2}{3} \\, {\\left(2 \\, b^{3} - 9 \\, a b c\\right)} d}}{6 \\, a^{2}}\\right)}^{\\frac{1}{3}} - \\frac{b}{3 \\, a}, x = \\frac{\\frac{b^{2}}{a^{2}} - \\frac{3 \\, c}{a}}{9 \\, {\\left(-\\frac{b^{3}}{27 \\, a^{3}} + \\frac{b c}{6 \\, a^{2}} - \\frac{d}{2 \\, a} + \\frac{\\sqrt{-\\frac{1}{3} \\, b^{2} c^{2} + \\frac{4}{3} \\, a c^{3} + 9 \\, a^{2} d^{2} + \\frac{2}{3} \\, {\\left(2 \\, b^{3} - 9 \\, a b c\\right)} d}}{6 \\, a^{2}}\\right)}^{\\frac{1}{3}}} + {\\left(-\\frac{b^{3}}{27 \\, a^{3}} + \\frac{b c}{6 \\, a^{2}} - \\frac{d}{2 \\, a} + \\frac{\\sqrt{-\\frac{1}{3} \\, b^{2} c^{2} + \\frac{4}{3} \\, a c^{3} + 9 \\, a^{2} d^{2} + \\frac{2}{3} \\, {\\left(2 \\, b^{3} - 9 \\, a b c\\right)} d}}{6 \\, a^{2}}\\right)}^{\\frac{1}{3}} - \\frac{b}{3 \\, a}\\right]</script></html>"
      ],
      "text/latex": [
       "\\begin{math}\n",
       "\\newcommand{\\Bold}[1]{\\mathbf{#1}}\\left[x = -\\frac{{\\left(-i \\, \\sqrt{3} + 1\\right)} {\\left(\\frac{b^{2}}{a^{2}} - \\frac{3 \\, c}{a}\\right)}}{18 \\, {\\left(-\\frac{b^{3}}{27 \\, a^{3}} + \\frac{b c}{6 \\, a^{2}} - \\frac{d}{2 \\, a} + \\frac{\\sqrt{-\\frac{1}{3} \\, b^{2} c^{2} + \\frac{4}{3} \\, a c^{3} + 9 \\, a^{2} d^{2} + \\frac{2}{3} \\, {\\left(2 \\, b^{3} - 9 \\, a b c\\right)} d}}{6 \\, a^{2}}\\right)}^{\\frac{1}{3}}} - \\frac{1}{2} \\, {\\left(i \\, \\sqrt{3} + 1\\right)} {\\left(-\\frac{b^{3}}{27 \\, a^{3}} + \\frac{b c}{6 \\, a^{2}} - \\frac{d}{2 \\, a} + \\frac{\\sqrt{-\\frac{1}{3} \\, b^{2} c^{2} + \\frac{4}{3} \\, a c^{3} + 9 \\, a^{2} d^{2} + \\frac{2}{3} \\, {\\left(2 \\, b^{3} - 9 \\, a b c\\right)} d}}{6 \\, a^{2}}\\right)}^{\\frac{1}{3}} - \\frac{b}{3 \\, a}, x = -\\frac{{\\left(i \\, \\sqrt{3} + 1\\right)} {\\left(\\frac{b^{2}}{a^{2}} - \\frac{3 \\, c}{a}\\right)}}{18 \\, {\\left(-\\frac{b^{3}}{27 \\, a^{3}} + \\frac{b c}{6 \\, a^{2}} - \\frac{d}{2 \\, a} + \\frac{\\sqrt{-\\frac{1}{3} \\, b^{2} c^{2} + \\frac{4}{3} \\, a c^{3} + 9 \\, a^{2} d^{2} + \\frac{2}{3} \\, {\\left(2 \\, b^{3} - 9 \\, a b c\\right)} d}}{6 \\, a^{2}}\\right)}^{\\frac{1}{3}}} - \\frac{1}{2} \\, {\\left(-i \\, \\sqrt{3} + 1\\right)} {\\left(-\\frac{b^{3}}{27 \\, a^{3}} + \\frac{b c}{6 \\, a^{2}} - \\frac{d}{2 \\, a} + \\frac{\\sqrt{-\\frac{1}{3} \\, b^{2} c^{2} + \\frac{4}{3} \\, a c^{3} + 9 \\, a^{2} d^{2} + \\frac{2}{3} \\, {\\left(2 \\, b^{3} - 9 \\, a b c\\right)} d}}{6 \\, a^{2}}\\right)}^{\\frac{1}{3}} - \\frac{b}{3 \\, a}, x = \\frac{\\frac{b^{2}}{a^{2}} - \\frac{3 \\, c}{a}}{9 \\, {\\left(-\\frac{b^{3}}{27 \\, a^{3}} + \\frac{b c}{6 \\, a^{2}} - \\frac{d}{2 \\, a} + \\frac{\\sqrt{-\\frac{1}{3} \\, b^{2} c^{2} + \\frac{4}{3} \\, a c^{3} + 9 \\, a^{2} d^{2} + \\frac{2}{3} \\, {\\left(2 \\, b^{3} - 9 \\, a b c\\right)} d}}{6 \\, a^{2}}\\right)}^{\\frac{1}{3}}} + {\\left(-\\frac{b^{3}}{27 \\, a^{3}} + \\frac{b c}{6 \\, a^{2}} - \\frac{d}{2 \\, a} + \\frac{\\sqrt{-\\frac{1}{3} \\, b^{2} c^{2} + \\frac{4}{3} \\, a c^{3} + 9 \\, a^{2} d^{2} + \\frac{2}{3} \\, {\\left(2 \\, b^{3} - 9 \\, a b c\\right)} d}}{6 \\, a^{2}}\\right)}^{\\frac{1}{3}} - \\frac{b}{3 \\, a}\\right]\n",
       "\\end{math}"
      ],
      "text/plain": [
       "[x == -1/18*(-I*sqrt(3) + 1)*(b^2/a^2 - 3*c/a)/(-1/27*b^3/a^3 + 1/6*b*c/a^2 - 1/2*d/a + 1/6*sqrt(-1/3*b^2*c^2 + 4/3*a*c^3 + 9*a^2*d^2 + 2/3*(2*b^3 - 9*a*b*c)*d)/a^2)^(1/3) - 1/2*(I*sqrt(3) + 1)*(-1/27*b^3/a^3 + 1/6*b*c/a^2 - 1/2*d/a + 1/6*sqrt(-1/3*b^2*c^2 + 4/3*a*c^3 + 9*a^2*d^2 + 2/3*(2*b^3 - 9*a*b*c)*d)/a^2)^(1/3) - 1/3*b/a, x == -1/18*(I*sqrt(3) + 1)*(b^2/a^2 - 3*c/a)/(-1/27*b^3/a^3 + 1/6*b*c/a^2 - 1/2*d/a + 1/6*sqrt(-1/3*b^2*c^2 + 4/3*a*c^3 + 9*a^2*d^2 + 2/3*(2*b^3 - 9*a*b*c)*d)/a^2)^(1/3) - 1/2*(-I*sqrt(3) + 1)*(-1/27*b^3/a^3 + 1/6*b*c/a^2 - 1/2*d/a + 1/6*sqrt(-1/3*b^2*c^2 + 4/3*a*c^3 + 9*a^2*d^2 + 2/3*(2*b^3 - 9*a*b*c)*d)/a^2)^(1/3) - 1/3*b/a, x == 1/9*(b^2/a^2 - 3*c/a)/(-1/27*b^3/a^3 + 1/6*b*c/a^2 - 1/2*d/a + 1/6*sqrt(-1/3*b^2*c^2 + 4/3*a*c^3 + 9*a^2*d^2 + 2/3*(2*b^3 - 9*a*b*c)*d)/a^2)^(1/3) + (-1/27*b^3/a^3 + 1/6*b*c/a^2 - 1/2*d/a + 1/6*sqrt(-1/3*b^2*c^2 + 4/3*a*c^3 + 9*a^2*d^2 + 2/3*(2*b^3 - 9*a*b*c)*d)/a^2)^(1/3) - 1/3*b/a]"
      ]
     },
     "metadata": {},
     "output_type": "display_data"
    }
   ],
   "source": [
    "x, a, b, c, d= var('x a b c d')\n",
    "show(solve(a*x**3 + b*x**2 + c*x +d, x))"
   ]
  },
  {
   "cell_type": "code",
   "execution_count": 5,
   "metadata": {},
   "outputs": [
    {
     "data": {
      "text/plain": [
       "[x == -2, x == -1]"
      ]
     },
     "execution_count": 5,
     "metadata": {},
     "output_type": "execute_result"
    }
   ],
   "source": [
    "x = var('x')\n",
    "solve(x^2 + 3*x + 2, x)"
   ]
  }
 ],
 "metadata": {
  "kernelspec": {
   "display_name": "SageMath 9.2",
   "language": "sage",
   "name": "sagemath"
  },
  "language_info": {
   "codemirror_mode": {
    "name": "ipython",
    "version": 3
   },
   "file_extension": ".py",
   "mimetype": "text/x-python",
   "name": "python",
   "nbconvert_exporter": "python",
   "pygments_lexer": "ipython3",
   "version": "3.8.5"
  }
 },
 "nbformat": 4,
 "nbformat_minor": 4
}
