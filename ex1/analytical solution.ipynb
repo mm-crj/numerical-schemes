{
 "cells": [
  {
   "cell_type": "code",
   "execution_count": 2,
   "metadata": {},
   "outputs": [
    {
     "data": {
      "text/html": [
       "<html><script type=\"math/tex; mode=display\">\\newcommand{\\Bold}[1]{\\mathbf{#1}}K_{1} e^{\\left(\\frac{1}{2} \\, x {\\left(\\sqrt{5} + 1\\right)}\\right)} + K_{2} e^{\\left(-\\frac{1}{2} \\, x {\\left(\\sqrt{5} - 1\\right)}\\right)} - \\frac{\\pi \\cos\\left(\\pi x\\right) - {\\left(\\pi^{2} + 1\\right)} \\sin\\left(\\pi x\\right)}{\\pi^{4} + 3 \\, \\pi^{2} + 1}</script></html>"
      ],
      "text/latex": [
       "\\begin{math}\n",
       "\\newcommand{\\Bold}[1]{\\mathbf{#1}}K_{1} e^{\\left(\\frac{1}{2} \\, x {\\left(\\sqrt{5} + 1\\right)}\\right)} + K_{2} e^{\\left(-\\frac{1}{2} \\, x {\\left(\\sqrt{5} - 1\\right)}\\right)} - \\frac{\\pi \\cos\\left(\\pi x\\right) - {\\left(\\pi^{2} + 1\\right)} \\sin\\left(\\pi x\\right)}{\\pi^{4} + 3 \\, \\pi^{2} + 1}\n",
       "\\end{math}"
      ],
      "text/plain": [
       "_K1*e^(1/2*x*(sqrt(5) + 1)) + _K2*e^(-1/2*x*(sqrt(5) - 1)) - (pi*cos(pi*x) - (pi^2 + 1)*sin(pi*x))/(pi^4 + 3*pi^2 + 1)"
      ]
     },
     "metadata": {},
     "output_type": "display_data"
    }
   ],
   "source": [
    "x = var('x')\n",
    "u = function('u')(x)\n",
    "de = -diff(u,x,2)+diff(u,x,1) + u == sin(pi*x)\n",
    "show(desolve(de, u))"
   ]
  },
  {
   "cell_type": "markdown",
   "metadata": {},
   "source": [
    "Let $d=\\frac{\\pi}{\\pi^4+3\\pi^2+1}$. So now by substituting the diriclelet conditions we have:\n",
    "$$c_1 + c_2=d\\\\\n",
    "c_1 \\exp(r_1) + c_2\\exp(r_2)=-d\n",
    "$$\n",
    "This is solved below:"
   ]
  },
  {
   "cell_type": "code",
   "execution_count": 1,
   "metadata": {},
   "outputs": [
    {
     "data": {
      "text/html": [
       "<html><script type=\"math/tex; mode=display\">\\newcommand{\\Bold}[1]{\\mathbf{#1}}\\left[\\left[c_{1} = -\\frac{d {\\left(1.648721270700128 \\, e^{\\left(-0.5 \\, \\sqrt{5}\\right)} + 1\\right)}}{1.648721270700128 \\, e^{\\left(0.5 \\, \\sqrt{5}\\right)} - 1.648721270700128 \\, e^{\\left(-0.5 \\, \\sqrt{5}\\right)}}, c_{2} = \\frac{d {\\left(1.648721270700128 \\, e^{\\left(0.5 \\, \\sqrt{5}\\right)} + 1\\right)}}{1.648721270700128 \\, e^{\\left(0.5 \\, \\sqrt{5}\\right)} - 1.648721270700128 \\, e^{\\left(-0.5 \\, \\sqrt{5}\\right)}}\\right]\\right]</script></html>"
      ],
      "text/latex": [
       "\\begin{math}\n",
       "\\newcommand{\\Bold}[1]{\\mathbf{#1}}\\left[\\left[c_{1} = -\\frac{d {\\left(1.648721270700128 \\, e^{\\left(-0.5 \\, \\sqrt{5}\\right)} + 1\\right)}}{1.648721270700128 \\, e^{\\left(0.5 \\, \\sqrt{5}\\right)} - 1.648721270700128 \\, e^{\\left(-0.5 \\, \\sqrt{5}\\right)}}, c_{2} = \\frac{d {\\left(1.648721270700128 \\, e^{\\left(0.5 \\, \\sqrt{5}\\right)} + 1\\right)}}{1.648721270700128 \\, e^{\\left(0.5 \\, \\sqrt{5}\\right)} - 1.648721270700128 \\, e^{\\left(-0.5 \\, \\sqrt{5}\\right)}}\\right]\\right]\n",
       "\\end{math}"
      ],
      "text/plain": [
       "[[c1 == -d*(1.648721270700128*e^(-0.5*sqrt(5)) + 1)/(1.648721270700128*e^(0.5*sqrt(5)) - 1.648721270700128*e^(-0.5*sqrt(5))), c2 == d*(1.648721270700128*e^(0.5*sqrt(5)) + 1)/(1.648721270700128*e^(0.5*sqrt(5)) - 1.648721270700128*e^(-0.5*sqrt(5)))]]"
      ]
     },
     "metadata": {},
     "output_type": "display_data"
    }
   ],
   "source": [
    "var('c1,c2,d')\n",
    "eq1 = c1+c2==d\n",
    "eq2 = c1*exp((1+sqrt(5))*0.5)+c2*exp((1-sqrt(5))*0.5)==-d\n",
    "show(solve([eq1,eq2],c1,c2))"
   ]
  },
  {
   "cell_type": "code",
   "execution_count": 7,
   "metadata": {},
   "outputs": [
    {
     "data": {
      "text/plain": [
       "integrate(1/sqrt(x^3 + x^2 + 1), x)"
      ]
     },
     "execution_count": 7,
     "metadata": {},
     "output_type": "execute_result"
    }
   ],
   "source": [
    "from sage.symbolic.integration.integral import indefinite_integral\n",
    "indefinite_integral(1/sqrt(x**3+x**2+1), x)"
   ]
  },
  {
   "cell_type": "code",
   "execution_count": 11,
   "metadata": {},
   "outputs": [
    {
     "data": {
      "text/plain": [
       "a*x^2 + b*x + c"
      ]
     },
     "execution_count": 11,
     "metadata": {},
     "output_type": "execute_result"
    }
   ],
   "source": [
    "#x = PolynomialRing(RationalField(), 'x').gen()\n",
    "#var('a b c')\n",
    "f = a*x**2+b*x+c\n",
    "f.factor()"
   ]
  },
  {
   "cell_type": "code",
   "execution_count": 15,
   "metadata": {},
   "outputs": [
    {
     "ename": "TypeError",
     "evalue": "unsupported operand type(s) for ** or pow(): 'tuple' and 'int'",
     "output_type": "error",
     "traceback": [
      "\u001b[0;31m---------------------------------------------------------------------------\u001b[0m",
      "\u001b[0;31mTypeError\u001b[0m                                 Traceback (most recent call last)",
      "\u001b[0;32m<ipython-input-15-fbcbbc807f51>\u001b[0m in \u001b[0;36m<module>\u001b[0;34m\u001b[0m\n\u001b[1;32m      1\u001b[0m \u001b[0mx\u001b[0m \u001b[0;34m=\u001b[0m \u001b[0mvar\u001b[0m\u001b[0;34m(\u001b[0m\u001b[0;34m'x, a, b, c'\u001b[0m\u001b[0;34m)\u001b[0m\u001b[0;34m\u001b[0m\u001b[0;34m\u001b[0m\u001b[0m\n\u001b[0;32m----> 2\u001b[0;31m \u001b[0msolve\u001b[0m\u001b[0;34m(\u001b[0m\u001b[0ma\u001b[0m\u001b[0;34m*\u001b[0m\u001b[0mx\u001b[0m\u001b[0;34m**\u001b[0m\u001b[0mInteger\u001b[0m\u001b[0;34m(\u001b[0m\u001b[0;36m2\u001b[0m\u001b[0;34m)\u001b[0m \u001b[0;34m+\u001b[0m \u001b[0mb\u001b[0m\u001b[0;34m*\u001b[0m\u001b[0mx\u001b[0m \u001b[0;34m+\u001b[0m \u001b[0mc\u001b[0m\u001b[0;34m,\u001b[0m \u001b[0mx\u001b[0m\u001b[0;34m)\u001b[0m\u001b[0;34m\u001b[0m\u001b[0;34m\u001b[0m\u001b[0m\n\u001b[0m",
      "\u001b[0;32m~/bin/SageMath/local/lib/python3.8/site-packages/sage/rings/integer.pyx\u001b[0m in \u001b[0;36msage.rings.integer.Integer.__pow__ (build/cythonized/sage/rings/integer.c:15223)\u001b[0;34m()\u001b[0m\n\u001b[1;32m   2206\u001b[0m             \u001b[0;32mreturn\u001b[0m \u001b[0mcoercion_model\u001b[0m\u001b[0;34m.\u001b[0m\u001b[0mbin_op\u001b[0m\u001b[0;34m(\u001b[0m\u001b[0mleft\u001b[0m\u001b[0;34m,\u001b[0m \u001b[0mright\u001b[0m\u001b[0;34m,\u001b[0m \u001b[0moperator\u001b[0m\u001b[0;34m.\u001b[0m\u001b[0mpow\u001b[0m\u001b[0;34m)\u001b[0m\u001b[0;34m\u001b[0m\u001b[0;34m\u001b[0m\u001b[0m\n\u001b[1;32m   2207\u001b[0m         \u001b[0;31m# left is a non-Element: do the powering with a Python int\u001b[0m\u001b[0;34m\u001b[0m\u001b[0;34m\u001b[0m\u001b[0;34m\u001b[0m\u001b[0m\n\u001b[0;32m-> 2208\u001b[0;31m         \u001b[0;32mreturn\u001b[0m \u001b[0mleft\u001b[0m \u001b[0;34m**\u001b[0m \u001b[0mint\u001b[0m\u001b[0;34m(\u001b[0m\u001b[0mright\u001b[0m\u001b[0;34m)\u001b[0m\u001b[0;34m\u001b[0m\u001b[0;34m\u001b[0m\u001b[0m\n\u001b[0m\u001b[1;32m   2209\u001b[0m \u001b[0;34m\u001b[0m\u001b[0m\n\u001b[1;32m   2210\u001b[0m     \u001b[0mcpdef\u001b[0m \u001b[0m_pow_\u001b[0m\u001b[0;34m(\u001b[0m\u001b[0mself\u001b[0m\u001b[0;34m,\u001b[0m \u001b[0mother\u001b[0m\u001b[0;34m)\u001b[0m\u001b[0;34m:\u001b[0m\u001b[0;34m\u001b[0m\u001b[0;34m\u001b[0m\u001b[0m\n",
      "\u001b[0;31mTypeError\u001b[0m: unsupported operand type(s) for ** or pow(): 'tuple' and 'int'"
     ]
    }
   ],
   "source": [
    "x = var('x, a, b, c')\n",
    "solve(a*x**2 + b*x + c, x)"
   ]
  }
 ],
 "metadata": {
  "kernelspec": {
   "display_name": "SageMath 9.2",
   "language": "sage",
   "name": "sagemath"
  },
  "language_info": {
   "codemirror_mode": {
    "name": "ipython",
    "version": 3
   },
   "file_extension": ".py",
   "mimetype": "text/x-python",
   "name": "python",
   "nbconvert_exporter": "python",
   "pygments_lexer": "ipython3",
   "version": "3.8.5"
  }
 },
 "nbformat": 4,
 "nbformat_minor": 4
}
