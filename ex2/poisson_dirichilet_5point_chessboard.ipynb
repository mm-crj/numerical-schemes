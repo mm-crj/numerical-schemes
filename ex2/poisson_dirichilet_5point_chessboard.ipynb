{
 "cells": [
  {
   "cell_type": "markdown",
   "metadata": {},
   "source": [
    "# Chessboard/Checkeredboard Ordering\n",
    "\n",
    "Consider the Poisson equation $-\\nabla u = f$ on the unit square with Dirichlet boundary conditions. Use a uniform Cartesian grid with grid size $h = 1/(N + 1)$ and the five-point stencil\n",
    "to approximate the Laplacian, as described in Ex. 2.1.\n",
    "The resulting linear system for the interior grid points (boundary points are shifted to the right\n",
    "hand side) has $N^2$ unknowns and the $N^2 × N^2$ matrix is sparse and depends on the ordering\n",
    "of the grid points.\n",
    "If $N$ is even, the chessboard ordering yields the matrix equation\n",
    "$$\n",
    "\\begin{pmatrix}\n",
    "D & H \\\\\n",
    "H^T & D \n",
    "\\end{pmatrix}\n",
    "\\begin{pmatrix}\n",
    "u_{white}  \\\\\n",
    "u_{black}\n",
    "\\end{pmatrix} = \\dots\n",
    "$$\n",
    "where $D$ is a diagonal matrix of dimension $N^2/2$ . Determine the structure of the matrix $H$.\n"
   ]
  },
  {
   "cell_type": "markdown",
   "metadata": {},
   "source": [
    "## Structure of the column ordering(y-direction)\n",
    "$$\n",
    "u_{00}=g_{00}\\\\\n",
    "\\cdots\\\\\n",
    "u_{n0}=g_{n0}\\\\\n",
    "u_{01}=g_{01}\\\\\n",
    "u_{11}=\\frac{u_{01}+u_{10}-4u_{11}+u_{21}+u_{12}}{h^2}\\\\\n",
    "u_{21}=\\frac{u_{11}+u_{20}-4u_{21}+u_{31}+u_{22}}{h^2}\\\\\n",
    "\\cdots\\\\\n",
    "u_{21}=\\frac{u_{11}+u_{20}-4u_{21}+u_{31}+u_{22}}{h^2}\\\\\n",
    "u_{0n}=g_{0n}\\\\\n",
    "\\cdots\\\\\n",
    "u_{nn}=g_{nn}\n",
    "$$"
   ]
  },
  {
   "cell_type": "code",
   "execution_count": 3,
   "metadata": {},
   "outputs": [
    {
     "name": "stdout",
     "output_type": "stream",
     "text": [
      "[array([[0.25, 0.25, 0.25],\n",
      "       [0.5 , 0.5 , 0.5 ],\n",
      "       [0.75, 0.75, 0.75]]), array([[0.25, 0.5 , 0.75],\n",
      "       [0.25, 0.5 , 0.75],\n",
      "       [0.25, 0.5 , 0.75]])]\n"
     ]
    }
   ],
   "source": [
    "import numpy as np\n",
    "import matplotlib.pyplot as plt \n",
    "from scipy.sparse import dia_matrix\n",
    "import scipy.sparse\n",
    "import scipy.sparse.linalg\n",
    "\n",
    "#grid\n",
    "n=4\n",
    "h=1/n\n",
    "#x=np.linspace(0.0, 1.0,n)\n",
    "#y=np.linspace(0.0, 1.0,n)\n",
    "x= np.arange(1,n)*h\n",
    "y= np.arange(1,n)*h\n",
    "#x= np.arange(1,n-1)*h\n",
    "#y= np.arange(1,n-1)*h\n",
    "\n",
    "[Y,X]=np.meshgrid(x,y)\n",
    "print([X,Y])"
   ]
  },
  {
   "cell_type": "markdown",
   "metadata": {},
   "source": [
    "As you will notice the variables in mesh grid has been switched. This is to match our convention that the $X$ matrix corrosponds to first or the row index and the $Y$ index corrosponds to the second index that is the column index. You can visualize the meshes $X,Y$ as matrices holding one of the cordinates of the $2d (x,y)$ plane. lets visualize this with an example.\n",
    "\n",
    "If we take say (1,0) element of both matrices X,Y it gives us "
   ]
  },
  {
   "cell_type": "markdown",
   "metadata": {},
   "source": [
    "## Creating the $L_h$ matrix: "
   ]
  },
  {
   "cell_type": "code",
   "execution_count": 17,
   "metadata": {},
   "outputs": [
    {
     "data": {
      "image/png": "[encoded data removed]",
      "text/plain": [
       "<Figure size 432x288 with 1 Axes>"
      ]
     },
     "metadata": {
      "needs_background": "light"
     },
     "output_type": "display_data"
    }
   ],
   "source": [
    "#diagonal_block\n",
    "db= -4/(h**2)*np.identity(n-1)\n",
    "db=db+np.diag(np.ones(n-2),1)/h**2\n",
    "db=db+np.diag(np.ones(n-2),-1)/h**2\n",
    "L=np.kron(np.identity(n-1),db)\n",
    "L=L+np.diag(np.ones((n-2)*(n-1)),n-1)\n",
    "L=L+np.diag(np.ones((n-2)*(n-1)),-n+1)\n",
    "#print(L)\n",
    "plt.spy(L,markersize=4)\n",
    "plt.grid('on')"
   ]
  },
  {
   "cell_type": "code",
   "execution_count": 3,
   "metadata": {},
   "outputs": [],
   "source": [
    "def fa(x,y):\n",
    "    return np.sin(x)*np.cos(y)\n",
    "\n",
    "%matplotlib qt\n",
    "\n",
    "from mpl_toolkits.mplot3d import Axes3D\n",
    "from matplotlib import cm\n",
    "F=fa(X,Y)\n",
    "\n",
    "fig = plt.figure()\n",
    "ax = fig.gca(projection='3d')\n",
    "\n",
    "surf = ax.plot_surface(X, Y, F, cmap=cm.coolwarm,\n",
    "                       linewidth=0, antialiased=False)\n",
    "\n",
    "ax.set_xlabel('x')\n",
    "ax.set_ylabel('y')\n",
    "\n",
    "# Add a color bar which maps values to colors.\n",
    "fig.colorbar(surf, shrink=0.5, aspect=5)\n",
    "plt.title('Function $f(x,y)$')\n",
    "\n",
    "plt.show()"
   ]
  },
  {
   "cell_type": "code",
   "execution_count": 4,
   "metadata": {},
   "outputs": [],
   "source": [
    "#print(F,'\\n\\n')\n",
    "f=np.reshape(F, ((n-1)**2, 1))\n",
    "\n",
    "#print(fa(x[0],y[0]))\n",
    "#print(f)\n",
    "\n",
    "#numerical Solution\n",
    "u = np.linalg.solve(L, f)\n",
    "U = np.reshape(u, ((n-1),(n-1)))\n",
    "#print(u,'\\n\\n',U)"
   ]
  },
  {
   "cell_type": "code",
   "execution_count": 5,
   "metadata": {},
   "outputs": [],
   "source": [
    "fig = plt.figure()\n",
    "ax = fig.gca(projection='3d')\n",
    "\n",
    "surf = ax.plot_surface(X, Y, U, cmap=cm.coolwarm,\n",
    "                       linewidth=0, antialiased=False)\n",
    "\n",
    "ax.set_xlabel('x')\n",
    "ax.set_ylabel('y')\n",
    "\n",
    "# Add a color bar which maps values to colors.\n",
    "fig.colorbar(surf, shrink=0.5, aspect=5)\n",
    "plt.title('Numerical solution')\n",
    "plt.show()"
   ]
  },
  {
   "cell_type": "code",
   "execution_count": 6,
   "metadata": {},
   "outputs": [],
   "source": [
    "def ua(x,y):\n",
    "    return -np.sin(x)*np.cos(y)/2.0\n",
    "\n",
    "Ua=ua(X,Y)\n",
    "\n",
    "fig = plt.figure()\n",
    "ax = fig.gca(projection='3d')\n",
    "\n",
    "surf = ax.plot_surface(X, Y, Ua, cmap=cm.coolwarm,\n",
    "                       linewidth=0, antialiased=False)\n",
    "\n",
    "ax.set_xlabel('x')\n",
    "ax.set_ylabel('y')\n",
    "\n",
    "# Add a color bar which maps values to colors.\n",
    "fig.colorbar(surf, shrink=0.5, aspect=5)\n",
    "plt.title('Analytic solution')\n",
    "plt.show()"
   ]
  },
  {
   "cell_type": "markdown",
   "metadata": {},
   "source": [
    "## Error analysis"
   ]
  },
  {
   "cell_type": "code",
   "execution_count": 7,
   "metadata": {},
   "outputs": [
    {
     "name": "stdout",
     "output_type": "stream",
     "text": [
      "0.6193024050995996\n"
     ]
    }
   ],
   "source": [
    "err = np.linalg.norm(Ua-U)\n",
    "print(err)"
   ]
  }
 ],
 "metadata": {
  "kernelspec": {
   "display_name": "Python 3",
   "language": "python",
   "name": "python3"
  },
  "language_info": {
   "codemirror_mode": {
    "name": "ipython",
    "version": 3
   },
   "file_extension": ".py",
   "mimetype": "text/x-python",
   "name": "python",
   "nbconvert_exporter": "python",
   "pygments_lexer": "ipython3",
   "version": "3.7.6"
  }
 },
 "nbformat": 4,
 "nbformat_minor": 4
}
