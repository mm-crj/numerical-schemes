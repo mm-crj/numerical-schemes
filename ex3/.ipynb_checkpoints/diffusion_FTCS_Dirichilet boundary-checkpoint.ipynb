{
 "cells": [
  {
   "cell_type": "markdown",
   "metadata": {},
   "source": [
    "# Exercise 3.4 Theta method\n",
    "\n",
    "Implement the $\\theta$-method for the diffusion equation and test the method for different values of $\\theta$.\n",
    "\n",
    "$$u_t = u_{xx} \\ \\text{ for $x$ in } \\ [0, 1]\\\\\n",
    "u(0,t) = u(1, t) = 0 \\text{ for } t \\in [0,0.1]\\\\\n",
    "u(x,0) = u_0 (x)=4x-4x^2\\text{ for }0 \\leq x \\leq 1\n",
    "$$"
   ]
  },
  {
   "cell_type": "markdown",
   "metadata": {},
   "source": [
    "## Diskrititisation\n",
    "\\begin{align}\n",
    "&x_m=mh\\qquad t_n=nk&\\\\\n",
    "&u_t=\\frac{u(t+k)-u(t)}{k}&\\\\\n",
    "&u_{xx}=\\frac{u(x+h)-2u(x)+u(x-h)}{h^2}&\\\\\n",
    "&u_{m}^{n+1}=\\lambda u_{m-1}^{n} +(1-2\\lambda)u_{m}^{n} +\\lambda u_{m+1}^{n} & \\lambda=\\frac{k}{h^2}\n",
    "\\end{align}"
   ]
  },
  {
   "cell_type": "markdown",
   "metadata": {},
   "source": [
    "## Structure of the column ordering(y-direction)\n",
    "$U^{n+1}=L\\cdot U^{n}$\n",
    "\n",
    "$$\n",
    "\\begin{bmatrix}\n",
    "u^2_1 \\\\\n",
    "\\vdots\\\\\n",
    "u^2_{n-1}\\\\\n",
    "u^3_1\\\\\n",
    "\\vdots\\\\\n",
    "u^{n-1}_1\\\\\n",
    "\\vdots\\\\\n",
    "u_{n-1}^{m-1}\n",
    "\\end{bmatrix}=\n",
    "\\begin{bmatrix}\n",
    "1-2\\lambda & 2 & 3\\\\\n",
    "a & 1-2\\lambda & c\n",
    "\\end{bmatrix}\\cdot\n",
    "\\begin{bmatrix}\n",
    "1 \\\\\n",
    "a \n",
    "\\end{bmatrix}\n",
    "$$"
   ]
  },
  {
   "cell_type": "code",
   "execution_count": 45,
   "metadata": {},
   "outputs": [
    {
     "name": "stdout",
     "output_type": "stream",
     "text": [
      "X=\n",
      " [[0.05 0.1  0.15 0.2  0.25 0.3  0.35 0.4  0.45 0.5  0.55 0.6  0.65 0.7\n",
      "  0.75 0.8  0.85 0.9  0.95]\n",
      " [0.05 0.1  0.15 0.2  0.25 0.3  0.35 0.4  0.45 0.5  0.55 0.6  0.65 0.7\n",
      "  0.75 0.8  0.85 0.9  0.95]\n",
      " [0.05 0.1  0.15 0.2  0.25 0.3  0.35 0.4  0.45 0.5  0.55 0.6  0.65 0.7\n",
      "  0.75 0.8  0.85 0.9  0.95]\n",
      " [0.05 0.1  0.15 0.2  0.25 0.3  0.35 0.4  0.45 0.5  0.55 0.6  0.65 0.7\n",
      "  0.75 0.8  0.85 0.9  0.95]] \n",
      "\n",
      " T=\n",
      " [[0.02 0.02 0.02 0.02 0.02 0.02 0.02 0.02 0.02 0.02 0.02 0.02 0.02 0.02\n",
      "  0.02 0.02 0.02 0.02 0.02]\n",
      " [0.04 0.04 0.04 0.04 0.04 0.04 0.04 0.04 0.04 0.04 0.04 0.04 0.04 0.04\n",
      "  0.04 0.04 0.04 0.04 0.04]\n",
      " [0.06 0.06 0.06 0.06 0.06 0.06 0.06 0.06 0.06 0.06 0.06 0.06 0.06 0.06\n",
      "  0.06 0.06 0.06 0.06 0.06]\n",
      " [0.08 0.08 0.08 0.08 0.08 0.08 0.08 0.08 0.08 0.08 0.08 0.08 0.08 0.08\n",
      "  0.08 0.08 0.08 0.08 0.08]]\n",
      "0.02 0.0012500000000000002\n"
     ]
    }
   ],
   "source": [
    "import numpy as np\n",
    "import matplotlib.pyplot as plt \n",
    "from scipy.sparse import dia_matrix, coo_matrix\n",
    "import scipy.sparse\n",
    "import scipy.sparse.linalg\n",
    "\n",
    "#grid\n",
    "nx=20\n",
    "nt=5\n",
    "h=1/nx\n",
    "k=0.1/nt\n",
    "#x=np.linspace(0.0, 1.0,n)\n",
    "#y=np.linspace(0.0, 1.0,n)\n",
    "x= np.arange(1,nx)*h\n",
    "t= np.arange(1,nt)*k\n",
    "#x= np.arange(1,n-1)*h\n",
    "#y= np.arange(1,n-1)*h\n",
    "\n",
    "[X,T]=np.meshgrid(x,t)\n",
    "print('X=\\n',X,'\\n\\n','T=\\n',T)\n",
    "print(k,(h**2)/2)"
   ]
  },
  {
   "cell_type": "markdown",
   "metadata": {},
   "source": [
    "As you will notice the variables in mesh grid has been switched. This is to match our convention that the $x$ changes in the horizontal direction and the $t$ index changes in the vertical direction. You can visualize the meshes $X,Y$ as matrices holding one of the cordinates of the $2d (x,y)$ plane. lets visualize this with an example.\n",
    "\n",
    "If we take say (1,2) element of both matrices X,Y it gives us $u_1^2$ at $(0.75,0.5)$"
   ]
  },
  {
   "cell_type": "markdown",
   "metadata": {},
   "source": [
    "## Stabilility Condition \n",
    "$$\\Delta t \\leq \\frac{\\Delta x^2}{2D}$$\n",
    "Here $D=1$ so,\n",
    "$$k \\leq \\frac{h^2}{2}$$"
   ]
  },
  {
   "cell_type": "code",
   "execution_count": 38,
   "metadata": {},
   "outputs": [
    {
     "name": "stdout",
     "output_type": "stream",
     "text": [
      "Input parameters will case instability\n"
     ]
    }
   ],
   "source": [
    "if k>(h**2)/2:\n",
    "    print('Input parameters will case instability')"
   ]
  },
  {
   "cell_type": "markdown",
   "metadata": {},
   "source": [
    "## Creating the $L_h$ matrix: "
   ]
  },
  {
   "cell_type": "code",
   "execution_count": 35,
   "metadata": {},
   "outputs": [
    {
     "data": {
      "image/png": "[encoded data removed]",
      "text/plain": [
       "<Figure size 432x288 with 1 Axes>"
      ]
     },
     "metadata": {
      "needs_background": "light"
     },
     "output_type": "display_data"
    }
   ],
   "source": [
    "#diagonal_block\n",
    "lam=k/h**2\n",
    "db= (1-2*lam)*np.identity(nx-1)\n",
    "db=db+lam*np.diag(np.ones(nx-2),1)\n",
    "L=db+lam*np.diag(np.ones(nx-2),-1)\n",
    "#L=np.kron(np.identity(n-1),db)\n",
    "#L=L+np.diag(np.ones((n-2)*(n-1)),n-1)\n",
    "#L=L+np.diag(np.ones((n-2)*(n-1)),-n+1)\n",
    "#print(L)\n",
    "plt.spy(L,markersize=4)\n",
    "plt.grid('on')"
   ]
  },
  {
   "cell_type": "code",
   "execution_count": 3,
   "metadata": {},
   "outputs": [],
   "source": [
    "def u0(x):\n",
    "    return 4*x-4*x**2\n",
    "\n",
    "%matplotlib qt\n",
    "\n",
    "from mpl_toolkits.mplot3d import Axes3D\n",
    "from matplotlib import cm\n",
    "F=fa(X,Y)\n",
    "\n",
    "fig = plt.figure()\n",
    "ax = fig.gca(projection='3d')\n",
    "\n",
    "surf = ax.plot_surface(X, Y, F, cmap=cm.coolwarm,\n",
    "                       linewidth=0, antialiased=False)\n",
    "\n",
    "ax.set_xlabel('x')\n",
    "ax.set_ylabel('y')\n",
    "\n",
    "# Add a color bar which maps values to colors.\n",
    "fig.colorbar(surf, shrink=0.5, aspect=5)\n",
    "plt.title('Function $f(x,y)$')\n",
    "\n",
    "plt.show()"
   ]
  },
  {
   "cell_type": "code",
   "execution_count": 4,
   "metadata": {},
   "outputs": [],
   "source": [
    "#print(F,'\\n\\n')\n",
    "f=np.reshape(F, ((n-1)**2, 1))\n",
    "\n",
    "#print(fa(x[0],y[0]))\n",
    "#print(f)\n",
    "\n",
    "#numerical Solution\n",
    "u = np.linalg.solve(L, f)\n",
    "U = np.reshape(u, ((n-1),(n-1)))\n",
    "#print(u,'\\n\\n',U)"
   ]
  },
  {
   "cell_type": "code",
   "execution_count": 5,
   "metadata": {},
   "outputs": [],
   "source": [
    "fig = plt.figure()\n",
    "ax = fig.gca(projection='3d')\n",
    "\n",
    "surf = ax.plot_surface(X, Y, U, cmap=cm.coolwarm,\n",
    "                       linewidth=0, antialiased=False)\n",
    "\n",
    "ax.set_xlabel('x')\n",
    "ax.set_ylabel('y')\n",
    "\n",
    "# Add a color bar which maps values to colors.\n",
    "fig.colorbar(surf, shrink=0.5, aspect=5)\n",
    "plt.title('Numerical solution')\n",
    "plt.show()"
   ]
  },
  {
   "cell_type": "code",
   "execution_count": 6,
   "metadata": {},
   "outputs": [],
   "source": [
    "def ua(x,y):\n",
    "    return -np.sin(x)*np.cos(y)/2.0\n",
    "\n",
    "Ua=ua(X,Y)\n",
    "\n",
    "fig = plt.figure()\n",
    "ax = fig.gca(projection='3d')\n",
    "\n",
    "surf = ax.plot_surface(X, Y, Ua, cmap=cm.coolwarm,\n",
    "                       linewidth=0, antialiased=False)\n",
    "\n",
    "ax.set_xlabel('x')\n",
    "ax.set_ylabel('y')\n",
    "\n",
    "# Add a color bar which maps values to colors.\n",
    "fig.colorbar(surf, shrink=0.5, aspect=5)\n",
    "plt.title('Analytic solution')\n",
    "plt.show()"
   ]
  },
  {
   "cell_type": "markdown",
   "metadata": {},
   "source": [
    "## Error analysis"
   ]
  },
  {
   "cell_type": "code",
   "execution_count": 7,
   "metadata": {},
   "outputs": [
    {
     "name": "stdout",
     "output_type": "stream",
     "text": [
      "0.6193024050995996\n"
     ]
    }
   ],
   "source": [
    "err = np.linalg.norm(Ua-U)\n",
    "print(err)"
   ]
  }
 ],
 "metadata": {
  "kernelspec": {
   "display_name": "Python 3",
   "language": "python",
   "name": "python3"
  },
  "language_info": {
   "codemirror_mode": {
    "name": "ipython",
    "version": 3
   },
   "file_extension": ".py",
   "mimetype": "text/x-python",
   "name": "python",
   "nbconvert_exporter": "python",
   "pygments_lexer": "ipython3",
   "version": "3.7.6"
  }
 },
 "nbformat": 4,
 "nbformat_minor": 4
}
