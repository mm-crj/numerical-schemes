{
 "cells": [
  {
   "cell_type": "markdown",
   "metadata": {},
   "source": [
    "This is how we define variables with double indices, this can be extended to as many varaibles and indices as possible. The docs are [here](https://doc.sagemath.org/html/en/reference/polynomial_rings/sage/rings/polynomial/polynomial_ring_constructor.html)."
   ]
  },
  {
   "cell_type": "code",
   "execution_count": 61,
   "metadata": {},
   "outputs": [
    {
     "name": "stdout",
     "output_type": "stream",
     "text": [
      "Defining u00, u01, u10, u11, u20, u21\n"
     ]
    }
   ],
   "source": [
    "var('theta r')\n",
    "R=PolynomialRing(ZZ, 3, 2, var_array='u')\n",
    "R.inject_variables()"
   ]
  },
  {
   "cell_type": "code",
   "execution_count": 69,
   "metadata": {},
   "outputs": [
    {
     "data": {
      "text/plain": [
       "r \\theta u_{01} + r \\theta u_{21} - {\\left(r \\theta - r\\right)} u_{00} + {\\left(2 \\, r \\theta - 2 \\, r + 1\\right)} u_{10} - {\\left(2 \\, r \\theta + 1\\right)} u_{11} - {\\left(r \\theta - r\\right)} u_{20}"
      ]
     },
     "execution_count": 69,
     "metadata": {},
     "output_type": "execute_result"
    }
   ],
   "source": [
    "e=r*(theta*(u01-2*u11+u21)+(1-theta)*(u00-2*u10+u20))-u11+u10\n",
    "latex(e.full_simplify())"
   ]
  },
  {
   "cell_type": "markdown",
   "metadata": {},
   "source": [
    "$$r \\theta u_{01} - {\\left(2 \\, r \\theta + 1\\right)} u_{11} + r \\theta u_{21}={\\left(r \\theta - r\\right)} u_{00}-{\\left(2 \\, r \\theta - 2 \\, r + 1\\right)} u_{10}+  {\\left(r \\theta - r\\right)} u_{20}$$ "
   ]
  }
 ],
 "metadata": {
  "kernelspec": {
   "display_name": "SageMath 9.2",
   "language": "sage",
   "name": "sagemath"
  },
  "language_info": {
   "codemirror_mode": {
    "name": "ipython",
    "version": 3
   },
   "file_extension": ".py",
   "mimetype": "text/x-python",
   "name": "python",
   "nbconvert_exporter": "python",
   "pygments_lexer": "ipython3",
   "version": "3.8.5"
  }
 },
 "nbformat": 4,
 "nbformat_minor": 4
}
