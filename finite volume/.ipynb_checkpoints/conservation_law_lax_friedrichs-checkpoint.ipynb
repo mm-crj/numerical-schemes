{
 "cells": [
  {
   "cell_type": "markdown",
   "metadata": {},
   "source": [
    "## Exercise 4.4(Finite Volume Method)\n",
    "\n",
    "Implement the linear advection equation:\n",
    "$$ u_t + au_x=0\\,\\qquad\\text{with  }a=1$$\n",
    "with two initial conditions $h(x)$, first, a smooth Gaussian profile\n",
    "\n",
    "$$u(x,0)=h(x)=\\alpha e^{-\\beta x^2},\\quad \\alpha=1, \\beta =2, \\qquad t \\in(0,1), \\text{ and }  x \\in [-1,1]$$\n",
    "\n",
    "\n",
    "    The task is to create a  Finite volume Scheme and to compare the numerical and the analytic solution."
   ]
  },
  {
   "cell_type": "markdown",
   "metadata": {},
   "source": []
  },
  {
   "cell_type": "code",
   "execution_count": 90,
   "metadata": {},
   "outputs": [
    {
     "name": "stdout",
     "output_type": "stream",
     "text": [
      "[-1.00000000e+00 -9.00000000e-01 -8.00000000e-01 -7.00000000e-01\n",
      " -6.00000000e-01 -5.00000000e-01 -4.00000000e-01 -3.00000000e-01\n",
      " -2.00000000e-01 -1.00000000e-01 -2.22044605e-16  1.00000000e-01\n",
      "  2.00000000e-01  3.00000000e-01  4.00000000e-01  5.00000000e-01\n",
      "  6.00000000e-01  7.00000000e-01  8.00000000e-01  9.00000000e-01] \n",
      "\n",
      "\n",
      " [0.   0.02 0.04 0.06 0.08 0.1  0.12 0.14 0.16 0.18 0.2  0.22 0.24 0.26\n",
      " 0.28 0.3  0.32 0.34 0.36 0.38 0.4  0.42 0.44 0.46 0.48 0.5  0.52 0.54\n",
      " 0.56 0.58 0.6  0.62 0.64 0.66 0.68 0.7  0.72 0.74 0.76 0.78 0.8  0.82\n",
      " 0.84 0.86 0.88 0.9  0.92 0.94 0.96 0.98]\n"
     ]
    }
   ],
   "source": [
    "import numpy as np\n",
    "import matplotlib.pyplot as plt \n",
    "from scipy.sparse import dia_matrix\n",
    "import scipy.sparse\n",
    "import scipy.sparse.linalg\n",
    "from mpl_toolkits.mplot3d import Axes3D\n",
    "import matplotlib.pyplot as plt\n",
    "from matplotlib import cm\n",
    "\n",
    "#domain\n",
    "x0=-1.0\n",
    "xn=1.0\n",
    "t0=0.0\n",
    "tn=1.0\n",
    "a=1.0\n",
    "#grid\n",
    "mx=20\n",
    "nt=50\n",
    "h=(xn-x0)/mx\n",
    "k=(tn-t0)/nt\n",
    "if (abs(a*k/h)>=1):\n",
    "    print('CFL condition not statisfied, change the grid size')\n",
    "x= np.arange(x0,xn,h)\n",
    "t= np.arange(t0,tn,k)\n",
    "    \n",
    "print(x,'\\n\\n\\n',t)\n",
    "#print(abs(a*k/h))"
   ]
  },
  {
   "cell_type": "code",
   "execution_count": 39,
   "metadata": {},
   "outputs": [
    {
     "data": {
      "image/png": "[encoded data removed]",
      "text/plain": [
       "<Figure size 432x288 with 1 Axes>"
      ]
     },
     "metadata": {
      "needs_background": "light"
     },
     "output_type": "display_data"
    },
    {
     "name": "stdout",
     "output_type": "stream",
     "text": [
      "(20,)\n"
     ]
    }
   ],
   "source": [
    "alpha=1.0\n",
    "beta=2.0\n",
    "u0=alpha*np.exp(-beta*x**2)\n",
    "\n",
    "#boundary conditions\n",
    "#u0,u1=0,0\n",
    "#u=np.zeros(x.shape)\n",
    "\n",
    "plt.plot(x,u0)\n",
    "plt.show()\n",
    "print (u0.shape)"
   ]
  },
  {
   "cell_type": "code",
   "execution_count": 97,
   "metadata": {},
   "outputs": [],
   "source": [
    "#initialize the matrix\n",
    "U = np.zeros((mx, nt))\n",
    "#initial conditions\n",
    "U[:,0] = u0\n",
    "#boundary conditions\n",
    "U[-1,:]=U[0,:] "
   ]
  },
  {
   "cell_type": "code",
   "execution_count": 105,
   "metadata": {},
   "outputs": [],
   "source": [
    "for n in range(1, nt-1):\n",
    "    for m in range(0, mx-1):\n",
    "         U[m,n]=U[m+1,n-1]*(0.5-(k*a)/(2.0*h))+U[m-1,n-1]*(0.5+(k*a)/(2.0*h))\n",
    "         # U[m,n]=U[0,0]\n",
    "        \n",
    "import matplotlib.animation as animation\n",
    "fig, ax = plt.subplots()\n",
    "line, = ax.plot(x, U[:,0])\n",
    "\n",
    "def animate(i):\n",
    "    line.set_ydata(U[:,i])  # update the data.\n",
    "    return line,\n",
    "\n",
    "ani = animation.FuncAnimation(\n",
    "    fig, animate, interval=20, blit=True, save_count=50)\n",
    "ani.save(\"movie.mp4\")\n",
    "#plt.plot(x,U[:,2])\n",
    "#plt.show()"
   ]
  },
  {
   "cell_type": "code",
   "execution_count": 94,
   "metadata": {},
   "outputs": [],
   "source": [
    "T, X = np.meshgrid(t, x)\n",
    "%matplotlib qt\n",
    "fig = plt.figure()\n",
    "ax = fig.gca(projection='3d')\n",
    "\n",
    "surf = ax.plot_surface(T, X, U, cmap=cm.coolwarm,\n",
    "                       linewidth=0, antialiased=False)\n",
    "\n",
    "ax.set_xlabel('t')\n",
    "ax.set_ylabel('x')\n",
    "\n",
    "# Add a color bar which maps values to colors.\n",
    "fig.colorbar(surf, shrink=0.5, aspect=5)\n",
    "plt.title('Numerical solution')\n",
    "plt.show()"
   ]
  }
 ],
 "metadata": {
  "kernelspec": {
   "display_name": "Python 3",
   "language": "python",
   "name": "python3"
  },
  "language_info": {
   "codemirror_mode": {
    "name": "ipython",
    "version": 3
   },
   "file_extension": ".py",
   "mimetype": "text/x-python",
   "name": "python",
   "nbconvert_exporter": "python",
   "pygments_lexer": "ipython3",
   "version": "3.7.6"
  }
 },
 "nbformat": 4,
 "nbformat_minor": 4
}
